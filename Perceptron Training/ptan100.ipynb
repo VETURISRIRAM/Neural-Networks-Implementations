{
 "cells": [
  {
   "cell_type": "code",
   "execution_count": 1,
   "metadata": {},
   "outputs": [],
   "source": [
    "# Importing General Purpose Libraries\n",
    "import numpy as np\n",
    "import matplotlib.pylab as plt\n",
    "import random"
   ]
  },
  {
   "cell_type": "code",
   "execution_count": 2,
   "metadata": {},
   "outputs": [],
   "source": [
    "%matplotlib inline"
   ]
  },
  {
   "cell_type": "code",
   "execution_count": 3,
   "metadata": {},
   "outputs": [],
   "source": [
    "random.seed(10)\n",
    "np.random.seed(10)"
   ]
  },
  {
   "cell_type": "code",
   "execution_count": 4,
   "metadata": {},
   "outputs": [
    {
     "name": "stdout",
     "output_type": "stream",
     "text": [
      "Initially selected weights are [0.03570129734495675, -0.14222189064977075, 0.15618260226894076]\n"
     ]
    }
   ],
   "source": [
    "w0 = random.uniform(-0.25, 0.25)\n",
    "w1 = random.uniform(-1, 1)\n",
    "w2 = random.uniform(-1, 1)\n",
    "\n",
    "weightVector = [w0, w1, w2]\n",
    "print ('Initially selected weights are {}'.format(weightVector))"
   ]
  },
  {
   "cell_type": "code",
   "execution_count": 5,
   "metadata": {},
   "outputs": [],
   "source": [
    "n = 100\n",
    "S = []\n",
    "for x in range(n):\n",
    "    S.append([random.uniform(-1, 1), random.uniform(-1, 1)])\n",
    "S0 = []\n",
    "S1 = []\n",
    "\n",
    "for x in range(0, len(S)):\n",
    "    result = 1*w0 + S[x][0]*w1 + S[x][1]*w2\n",
    "    \n",
    "    if result >= 0:\n",
    "        sample = [S[x][0]] + [S[x][1]] + [0]\n",
    "        S1.append(sample)\n",
    "    else:\n",
    "        sample = [S[x][0]] + [S[x][1]] + [1]\n",
    "        S0.append(sample)\n",
    "        \n",
    "inputSample = S1 + S0"
   ]
  },
  {
   "cell_type": "code",
   "execution_count": 6,
   "metadata": {},
   "outputs": [
    {
     "name": "stderr",
     "output_type": "stream",
     "text": [
      "No handles with labels found to put in legend.\n"
     ]
    },
    {
     "data": {
      "image/png": "[encoded data removed]",
      "text/plain": [
       "<Figure size 432x288 with 1 Axes>"
      ]
     },
     "metadata": {},
     "output_type": "display_data"
    }
   ],
   "source": [
    "S1Plot = []\n",
    "S2Plot = []\n",
    "S1 = []\n",
    "S2 = []\n",
    "\n",
    "for x in S:\n",
    "    result = np.matmul(np.array([1.0, x[0], x[1]]), np.transpose(weightVector))\n",
    "    if result >= 0:\n",
    "        S1Plot.append(x)\n",
    "        x = np.append(x, 1.0)\n",
    "        S1.append(x)\n",
    "    else:\n",
    "        S2Plot.append(x)\n",
    "        x = np.append(x, 0.0)\n",
    "        S2.append(x)\n",
    "\n",
    "# Converting S1 and S2 as Numpy arrays\n",
    "S1 = np.array(S1)\n",
    "S2 = np.array(S2)\n",
    "\n",
    "# For plotting the points and the line\n",
    "S1Plot = np.array(S1Plot)\n",
    "S2Plot = np.array(S2Plot)\n",
    "S1x, S1y = S1Plot.T\n",
    "S2x, S2y = S2Plot.T\n",
    " \n",
    "# For the separating line, we have to solve the equation\n",
    "# If x1 = 1\n",
    "point1 = [1]\n",
    "x2 = -(w0 + w1)/w2\n",
    "point1.append(x2)\n",
    "\n",
    "# If x2 = 1\n",
    "point2 = [1]\n",
    "x1 = -(w0 + w2)/w1\n",
    "point2 = [x1] + point2\n",
    "\n",
    "# If x1 = -1\n",
    "point3 = [-1]\n",
    "x2 = (w1-w0)/w2\n",
    "point3.append(x2)\n",
    "\n",
    "# If x2 = -1\n",
    "point4 = [-1]\n",
    "x1 = (w2-w0)/w1\n",
    "point4 = [x1] + point4\n",
    "\n",
    "linePoints = [point1, point2, point3, point4]\n",
    "linePoints = np.array(linePoints)\n",
    "lineX, lineY = linePoints.T\n",
    "\n",
    "plt.title('Manual Assigning of Weights!')\n",
    "plt.legend(loc=\"upper right\")\n",
    "plt.scatter(S1x, S1y, c='g', marker='*', label='S1')\n",
    "plt.scatter(S2x, S2y, c='r', marker='2', label='S0')\n",
    "plt.plot(lineX, lineY, color='red', label='Separating Line')\n",
    "plt.show(True)"
   ]
  },
  {
   "cell_type": "code",
   "execution_count": 12,
   "metadata": {},
   "outputs": [
    {
     "name": "stdout",
     "output_type": "stream",
     "text": [
      "[0.142805189379827, -0.14222189064977075, 0.15618260226894076]\n"
     ]
    }
   ],
   "source": [
    "random.seed(10)\n",
    "w0Prime = random.uniform(-1, 1)\n",
    "w1Prime = random.uniform(-1, 1)\n",
    "w2Prime = random.uniform(-1, 1)\n",
    "weightPrimeVector = [w0Prime, w1Prime, w2Prime]\n",
    "print(weightPrimeVector)"
   ]
  },
  {
   "cell_type": "code",
   "execution_count": 8,
   "metadata": {},
   "outputs": [],
   "source": [
    "def numberOfMisclassified(inputSample, weightPrimeVector):\n",
    "    \n",
    "    number = 0\n",
    "    \n",
    "    for x in range(0, len(inputSample)):\n",
    "        result = weightPrimeVector[0] + inputSample[x][0]*weightPrimeVector[1] + inputSample[x][1]*weightPrimeVector[2]\n",
    "        \n",
    "        if result >= 0:\n",
    "            y = 1\n",
    "        else:\n",
    "            y = 0\n",
    "            \n",
    "        if y == inputSample[x][2]:\n",
    "            pass\n",
    "        else:\n",
    "            number += 1\n",
    "            \n",
    "    return number"
   ]
  },
  {
   "cell_type": "code",
   "execution_count": 9,
   "metadata": {},
   "outputs": [
    {
     "name": "stdout",
     "output_type": "stream",
     "text": [
      "Number of samples that were misclassified with the new weights are 82\n"
     ]
    }
   ],
   "source": [
    "numberMisclassifications = numberOfMisclassified(inputSample, weightPrimeVector)\n",
    "print(\"Number of samples that were misclassified with the new weights are {}\".format(numberMisclassifications))"
   ]
  },
  {
   "cell_type": "code",
   "execution_count": 10,
   "metadata": {},
   "outputs": [],
   "source": [
    "def perceptronTrainingAlgorithm(omega, learningRate, inputSample):\n",
    "    \n",
    "    epoch = 0\n",
    "    omegas = []\n",
    "    missed = []\n",
    "    \n",
    "    while (numberOfMisclassified(inputSample, omega) != 0):\n",
    "        \n",
    "        missed.append(numberOfMisclassified(inputSample, omega))\n",
    "        epoch += 1\n",
    "        \n",
    "        for x in range(0, len(inputSample)):\n",
    "            \n",
    "            #result = np.matmul(np.array([1]+[inputSample[x][0]]+[inputSample[x][1]]), np.array(omega))\n",
    "            result = omega[0] + (inputSample[x][0]*omega[1]) + (inputSample[x][1]*omega[2])\n",
    "            \n",
    "            if result >= 0:\n",
    "                y = 1\n",
    "            else:\n",
    "                y = 0\n",
    "               \n",
    "            modification = [1] + inputSample[x][0:2]\n",
    "            actual = inputSample[x][2]\n",
    "            \n",
    "            difference = actual - y\n",
    "            \n",
    "            if difference != 0:\n",
    "                for x in range(3):\n",
    "                    modification[x] = modification[x]*learningRate*difference\n",
    "                    omega[x] = omega[x] + modification[x]\n",
    "                    \n",
    "        omegas.append(omega)\n",
    "    finalMisclassifications = numberOfMisclassified(inputSample, omega)\n",
    "    \n",
    "    return omegas, missed\n",
    "            \n",
    "            "
   ]
  },
  {
   "cell_type": "code",
   "execution_count": 11,
   "metadata": {},
   "outputs": [
    {
     "name": "stdout",
     "output_type": "stream",
     "text": [
      "Initial Weights : [-1.857194810620173, 7.4494602334554685, -8.176616442447566]\n"
     ]
    },
    {
     "data": {
      "image/png": "[encoded data removed]",
      "text/plain": [
       "<Figure size 360x360 with 1 Axes>"
      ]
     },
     "metadata": {},
     "output_type": "display_data"
    }
   ],
   "source": [
    "eta = 1\n",
    "finalWeights = []\n",
    "finalWeights, missed = perceptronTrainingAlgorithm(weightPrimeVector, eta, inputSample)\n",
    "\n",
    "print(\"Initial Weights : {}\".format(weightPrimeVector))\n",
    "nEpochs = range(len(finalWeights)+1)\n",
    "\n",
    "fig, ax = plt.subplots(figsize=(5,5))\n",
    "ax.plot(nEpochs, missed+[0], c = 'green')\n",
    "\n",
    "plt.ylabel('Miclassifications')\n",
    "plt.xlabel('Epochs')\n",
    "plt.show(True)"
   ]
  },
  {
   "cell_type": "code",
   "execution_count": 11,
   "metadata": {},
   "outputs": [
    {
     "name": "stdout",
     "output_type": "stream",
     "text": [
      "Initial Weights : [-0.05719481062017301, 0.23017432648154473, -0.2621911429256683]\n"
     ]
    },
    {
     "data": {
      "image/png": "[encoded data removed]",
      "text/plain": [
       "<Figure size 360x360 with 1 Axes>"
      ]
     },
     "metadata": {},
     "output_type": "display_data"
    }
   ],
   "source": [
    "eta = 0.1\n",
    "finalWeights = []\n",
    "finalWeights, missed = perceptronTrainingAlgorithm(weightPrimeVector, eta, inputSample)\n",
    "\n",
    "print(\"Initial Weights : {}\".format(weightPrimeVector))\n",
    "\n",
    "nEpochs = range(len(finalWeights)+1)\n",
    "\n",
    "fig, ax = plt.subplots(figsize=(5,5))\n",
    "ax.plot(nEpochs, missed+[0], c = 'green')\n",
    "\n",
    "plt.ylabel('Miclassifications')\n",
    "plt.xlabel('Epochs')\n",
    "plt.show(True)"
   ]
  },
  {
   "cell_type": "code",
   "execution_count": 11,
   "metadata": {},
   "outputs": [
    {
     "name": "stdout",
     "output_type": "stream",
     "text": [
      "Initial Weights : [-19.85719481062017, 75.79975576547463, -84.75423242565707]\n"
     ]
    },
    {
     "data": {
      "image/png": "[encoded data removed]",
      "text/plain": [
       "<Figure size 360x360 with 1 Axes>"
      ]
     },
     "metadata": {},
     "output_type": "display_data"
    }
   ],
   "source": [
    "eta = 10\n",
    "finalWeights = []\n",
    "finalWeights, missed = perceptronTrainingAlgorithm(weightPrimeVector, eta, inputSample)\n",
    "\n",
    "print(\"Initial Weights : {}\".format(weightPrimeVector))\n",
    "\n",
    "nEpochs = range(len(finalWeights)+1)\n",
    "\n",
    "fig, ax = plt.subplots(figsize=(5,5))\n",
    "ax.plot(nEpochs, missed+[0], c = 'green')\n",
    "\n",
    "plt.ylabel('Miclassifications')\n",
    "plt.xlabel('Epochs')\n",
    "plt.show(True)"
   ]
  },
  {
   "cell_type": "code",
   "execution_count": null,
   "metadata": {},
   "outputs": [],
   "source": []
  }
 ],
 "metadata": {
  "kernelspec": {
   "display_name": "Python 3",
   "language": "python",
   "name": "python3"
  },
  "language_info": {
   "codemirror_mode": {
    "name": "ipython",
    "version": 3
   },
   "file_extension": ".py",
   "mimetype": "text/x-python",
   "name": "python",
   "nbconvert_exporter": "python",
   "pygments_lexer": "ipython3",
   "version": "3.6.5"
  }
 },
 "nbformat": 4,
 "nbformat_minor": 2
}
